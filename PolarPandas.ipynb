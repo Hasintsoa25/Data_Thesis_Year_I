{
 "cells": [
  {
   "cell_type": "markdown",
   "metadata": {},
   "source": [
    "### Manipulation data frame with polars and pandas"
   ]
  },
  {
   "cell_type": "code",
   "execution_count": 51,
   "metadata": {},
   "outputs": [],
   "source": [
    "import pandas as pd\n",
    "import numpy as np\n",
    "import polars as pl\n",
    "import pygwalker as py"
   ]
  },
  {
   "cell_type": "code",
   "execution_count": 74,
   "metadata": {},
   "outputs": [
    {
     "data": {
      "text/html": [
       "<div>\n",
       "<style scoped>\n",
       "    .dataframe tbody tr th:only-of-type {\n",
       "        vertical-align: middle;\n",
       "    }\n",
       "\n",
       "    .dataframe tbody tr th {\n",
       "        vertical-align: top;\n",
       "    }\n",
       "\n",
       "    .dataframe thead th {\n",
       "        text-align: right;\n",
       "    }\n",
       "</style>\n",
       "<table border=\"1\" class=\"dataframe\">\n",
       "  <thead>\n",
       "    <tr style=\"text-align: right;\">\n",
       "      <th></th>\n",
       "      <th>Name</th>\n",
       "      <th>Generation</th>\n",
       "    </tr>\n",
       "  </thead>\n",
       "  <tbody>\n",
       "    <tr>\n",
       "      <th>1</th>\n",
       "      <td>Ivysaur</td>\n",
       "      <td>1</td>\n",
       "    </tr>\n",
       "    <tr>\n",
       "      <th>2</th>\n",
       "      <td>Venusaur</td>\n",
       "      <td>1</td>\n",
       "    </tr>\n",
       "    <tr>\n",
       "      <th>3</th>\n",
       "      <td>VenusaurMega Venusaur</td>\n",
       "      <td>1</td>\n",
       "    </tr>\n",
       "    <tr>\n",
       "      <th>4</th>\n",
       "      <td>Charmander</td>\n",
       "      <td>1</td>\n",
       "    </tr>\n",
       "    <tr>\n",
       "      <th>5</th>\n",
       "      <td>Charmeleon</td>\n",
       "      <td>1</td>\n",
       "    </tr>\n",
       "    <tr>\n",
       "      <th>...</th>\n",
       "      <td>...</td>\n",
       "      <td>...</td>\n",
       "    </tr>\n",
       "    <tr>\n",
       "      <th>795</th>\n",
       "      <td>Diancie</td>\n",
       "      <td>6</td>\n",
       "    </tr>\n",
       "    <tr>\n",
       "      <th>796</th>\n",
       "      <td>DiancieMega Diancie</td>\n",
       "      <td>6</td>\n",
       "    </tr>\n",
       "    <tr>\n",
       "      <th>797</th>\n",
       "      <td>HoopaHoopa Confined</td>\n",
       "      <td>6</td>\n",
       "    </tr>\n",
       "    <tr>\n",
       "      <th>798</th>\n",
       "      <td>HoopaHoopa Unbound</td>\n",
       "      <td>6</td>\n",
       "    </tr>\n",
       "    <tr>\n",
       "      <th>799</th>\n",
       "      <td>Volcanion</td>\n",
       "      <td>6</td>\n",
       "    </tr>\n",
       "  </tbody>\n",
       "</table>\n",
       "<p>630 rows × 2 columns</p>\n",
       "</div>"
      ],
      "text/plain": [
       "                      Name  Generation\n",
       "1                  Ivysaur           1\n",
       "2                 Venusaur           1\n",
       "3    VenusaurMega Venusaur           1\n",
       "4               Charmander           1\n",
       "5               Charmeleon           1\n",
       "..                     ...         ...\n",
       "795                Diancie           6\n",
       "796    DiancieMega Diancie           6\n",
       "797    HoopaHoopa Confined           6\n",
       "798     HoopaHoopa Unbound           6\n",
       "799              Volcanion           6\n",
       "\n",
       "[630 rows x 2 columns]"
      ]
     },
     "execution_count": null,
     "metadata": {},
     "output_type": "execute_result"
    }
   ],
   "source": [
    "##Importation des données\n",
    "d = pd.read_csv(\"Pokemon.csv\")\n",
    "f = pl.scan_csv(\"Pokemon.csv\")\n",
    "#Montrer les noms des colonnes\n",
    "f.collect_schema()\n",
    "#Nom des valeurs uniques de Type 1\n",
    "d[\"Type 1\"].unique()\n",
    "f.select(pl.col(\"Type 1\").unique()).collect()\n",
    "d.loc[d[\"Attack\"]>50][[\"Name\",\"Generation\"]]"
   ]
  },
  {
   "cell_type": "markdown",
   "metadata": {},
   "source": [
    "Izaho mieriettre hoe raha anao manap tsotra nagmba dia pandas no tsotsotra nohon polars fa n polars kosa mora hay n scipt atao aminy\n",
    "NB: rehefa manao python dia aza adino rehef amano query anak1 dai asiana () faona"
   ]
  },
  {
   "cell_type": "code",
   "execution_count": 97,
   "metadata": {},
   "outputs": [
    {
     "name": "stdout",
     "output_type": "stream",
     "text": [
      "CPU times: total: 15.6 ms\n",
      "Wall time: 36.2 ms\n"
     ]
    },
    {
     "data": {
      "text/html": [
       "<div><style>\n",
       ".dataframe > thead > tr,\n",
       ".dataframe > tbody > tr {\n",
       "  text-align: right;\n",
       "  white-space: pre-wrap;\n",
       "}\n",
       "</style>\n",
       "<small>shape: (0, 1)</small><table border=\"1\" class=\"dataframe\"><thead><tr><th>Attack</th></tr><tr><td>i64</td></tr></thead><tbody></tbody></table></div>"
      ],
      "text/plain": [
       "shape: (0, 1)\n",
       "┌────────┐\n",
       "│ Attack │\n",
       "│ ---    │\n",
       "│ i64    │\n",
       "╞════════╡\n",
       "└────────┘"
      ]
     },
     "execution_count": null,
     "metadata": {},
     "output_type": "execute_result"
    }
   ],
   "source": [
    "%%time\n",
    "f.filter(pl.col(\"Type 1\")==\"Rock\").select(pl.col(\"Attack\").sum()).collect()\n",
    "f.filter((pl.col(\"Legendary\")==True) | \n",
    "          pl.col(\"HP\")>100).select((pl.col([\"Name\",\"Legendary\"]))).collect()\n",
    "\n",
    "#Grouping by adn aggregate\n",
    "f.group_by(\"Legendary\").agg(pl.sum([\"Attack\",\"Defense\"]),\n",
    "                             pl.median(\"HP\").alias(\"Health Point\")).sort(by=\"Health Point\",descending=True).collect()\n",
    "\n",
    "\n",
    "#Filtrage en selctionnat plusierus modalitées\n",
    "f.filter(pl.col(\"Type 1\").is_in([\"Fire\",\"Rock\"])).collect()\n",
    "\n",
    "#Describe\n",
    "f.describe()\n",
    "\n",
    "#Select simple\n",
    "f.filter(\"Type 1\"==\"Fire\").select(\"Attack\").collect()"
   ]
  }
 ],
 "metadata": {
  "language_info": {
   "name": "python"
  }
 },
 "nbformat": 4,
 "nbformat_minor": 2
}
